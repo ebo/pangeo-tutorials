{
 "cells": [
  {
   "cell_type": "markdown",
   "metadata": {},
   "source": [
    "# Initializing Data for Examples\n",
    "\n",
    "There are several ways to initialize data for Jupyter notebook examples.  I have not \n",
    "found any specific place that collects them, and have decided to do so here."
   ]
  },
  {
   "cell_type": "code",
   "execution_count": 21,
   "metadata": {},
   "outputs": [
    {
     "name": "stdout",
     "output_type": "stream",
     "text": [
      "file = https://github.com/ebo/pangeo-tutorials/raw/master/data/Landsat_Mosaics/Midwest_Mosaic.tif\n"
     ]
    }
   ],
   "source": [
    "import os\n",
    "\n",
    "fname = 'Midwest_Mosaic.tif'\n",
    "url = 'https://github.com/ebo/pangeo-tutorials/raw/master/data/Landsat_Mosaics/'+fname\n",
    "\n",
    "print(\"file = %s\"%url)"
   ]
  },
  {
   "cell_type": "markdown",
   "metadata": {},
   "source": [
    "The first way uses an architect independent method using urllib:"
   ]
  },
  {
   "cell_type": "code",
   "execution_count": 22,
   "metadata": {},
   "outputs": [
    {
     "name": "stdout",
     "output_type": "stream",
     "text": [
      "downloaded test image file 'Midwest_Mosaic.tif'\n"
     ]
    }
   ],
   "source": [
    "if not os.path.exists(fname):\n",
    "    import urllib.request\n",
    "    urllib.request.urlretrieve(url, fname)\n",
    "    print(\"downloaded test image file '%s'\"%fname)"
   ]
  },
  {
   "cell_type": "markdown",
   "metadata": {},
   "source": [
    "The next method uses the linux command wget, but it needs to be verified that it is architectural independent:"
   ]
  },
  {
   "cell_type": "code",
   "execution_count": 23,
   "metadata": {},
   "outputs": [
    {
     "name": "stdout",
     "output_type": "stream",
     "text": [
      "--2018-03-19 08:29:10--  https://github.com/ebo/pangeo-tutorials/raw/master/data/Landsat_Mosaics/Midwest_Mosaic.tif\n",
      "Resolving github.com (github.com)... 192.30.253.112, 192.30.253.113\n",
      "Connecting to github.com (github.com)|192.30.253.112|:443... connected.\n",
      "HTTP request sent, awaiting response... 302 Found\n",
      "Location: https://raw.githubusercontent.com/ebo/pangeo-tutorials/master/data/Landsat_Mosaics/Midwest_Mosaic.tif [following]\n",
      "--2018-03-19 08:29:10--  https://raw.githubusercontent.com/ebo/pangeo-tutorials/master/data/Landsat_Mosaics/Midwest_Mosaic.tif\n",
      "Resolving raw.githubusercontent.com (raw.githubusercontent.com)... 151.101.200.133\n",
      "Connecting to raw.githubusercontent.com (raw.githubusercontent.com)|151.101.200.133|:443... connected.\n",
      "HTTP request sent, awaiting response... 200 OK\n",
      "Length: 4945520 (4.7M) [image/tiff]\n",
      "Saving to: ‘Midwest_Mosaic.tif.7’\n",
      "\n",
      "Midwest_Mosaic.tif. 100%[===================>]   4.72M  31.0MB/s    in 0.2s    \n",
      "\n",
      "2018-03-19 08:29:10 (31.0 MB/s) - ‘Midwest_Mosaic.tif.7’ saved [4945520/4945520]\n",
      "\n"
     ]
    }
   ],
   "source": [
    "os.system(\"wget %s\"%url)\n",
    "\n",
    "# or \n",
    "\n",
    "!wget --show-progress https://github.com/ebo/pangeo-tutorials/raw/master/data/Landsat_Mosaics/Midwest_Mosaic.tif"
   ]
  },
  {
   "cell_type": "markdown",
   "metadata": {},
   "source": [
    "and finally, clean up the detritus..."
   ]
  },
  {
   "cell_type": "code",
   "execution_count": 24,
   "metadata": {},
   "outputs": [
    {
     "name": "stdout",
     "output_type": "stream",
     "text": [
      "removed file 'Midwest_Mosaic.tif'\n"
     ]
    }
   ],
   "source": [
    "try:\n",
    "    os.remove(fname)\n",
    "    print(\"removed file '%s'\"%fname)\n",
    "except:\n",
    "    print(\"file '%s' does not exist... skipping...\"%fname)"
   ]
  },
  {
   "cell_type": "code",
   "execution_count": null,
   "metadata": {},
   "outputs": [],
   "source": []
  }
 ],
 "metadata": {
  "kernelspec": {
   "display_name": "Python 3",
   "language": "python",
   "name": "python3"
  },
  "language_info": {
   "codemirror_mode": {
    "name": "ipython",
    "version": 3
   },
   "file_extension": ".py",
   "mimetype": "text/x-python",
   "name": "python",
   "nbconvert_exporter": "python",
   "pygments_lexer": "ipython3",
   "version": "3.6.4"
  }
 },
 "nbformat": 4,
 "nbformat_minor": 2
}
