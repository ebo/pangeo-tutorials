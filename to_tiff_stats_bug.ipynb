{
 "cells": [
  {
   "cell_type": "markdown",
   "metadata": {},
   "source": [
    "# Bug replication: setting statistics via updage_tags\n",
    "\n",
    "The following notebook was written to test RasterIO's functionaility, and while working with it I appear to have exposed a bug.  The following code attempts to replicate the issue from scratch."
   ]
  },
  {
   "cell_type": "code",
   "execution_count": 13,
   "metadata": {},
   "outputs": [],
   "source": [
    "import rasterio\n",
    "import os"
   ]
  },
  {
   "cell_type": "code",
   "execution_count": 14,
   "metadata": {},
   "outputs": [],
   "source": [
    "# download a small (1227x1343) mosaic'ed LANDSAT image for the test.\n",
    "fname = 'Midwest_Mosaic.tif'\n",
    "url = 'https://github.com/ebo/pangeo-tutorials/raw/master/data/Landsat_Mosaics/'+fname\n",
    "\n",
    "if not os.path.exists(fname):\n",
    "    print(\"downloading test image file '%s'\"%fname)\n",
    "    import urllib.request\n",
    "    urllib.request.urlretrieve(url, fname)"
   ]
  },
  {
   "cell_type": "code",
   "execution_count": 15,
   "metadata": {},
   "outputs": [],
   "source": [
    "def to_tiff(data, fname, template=None, **kwargs):\n",
    "    import numpy as np\n",
    "\n",
    "    # check and promote the number of dimentio(1)ns for consistency\n",
    "    nbands = data.ndim\n",
    "    if 2 == nbands:\n",
    "        # expand the array so that it is least 3D (ie stacks of surfaces)\n",
    "        import numpy as np\n",
    "        data = np.expand_dims(data,axis=0)\n",
    "    elif 3 == nbands:\n",
    "        # nothing to do since it is already 3D\n",
    "        pass\n",
    "    else:\n",
    "        print(\"Error: to_tiff can only currently deal with 2D and 3D data\")\n",
    "        return\n",
    "\n",
    "    profile = {}\n",
    "    tags = {}\n",
    "    tmpl = None\n",
    "    if template:\n",
    "        tmpl = rasterio.open(template,'r')\n",
    "        profile = tmpl.profile.copy()\n",
    "        tags = tmpl.tags()\n",
    "\n",
    "    # the metadata should be appended.  Cache here to \n",
    "    # simplify variable replacement below.\n",
    "    meta = {}\n",
    "    if 'meta' in profile:\n",
    "        meta.update(profile['meta'])\n",
    "    if 'meta' in kwargs:\n",
    "        meta.update(kwargs['meta'])\n",
    "    \n",
    "    # overwrite anything inheritied from the template with \n",
    "    # user supplied args\n",
    "    profile.update(kwargs)\n",
    "    \n",
    "    # overwrite bits that write the array as geotiff and \n",
    "    # save the cached metadata\n",
    "    profile['driver'] = 'GTiff'\n",
    "    profile['count'] = data.shape[0]\n",
    "    profile['width'] = data.shape[2]\n",
    "    profile['height'] = data.shape[1]\n",
    "    profile['meta'] = meta\n",
    "    \n",
    "    if 'dtype' not in profile:\n",
    "        profile['dtype'] = type(data[0,0,0])\n",
    "        \n",
    "    # if you do not remove the previously associated .xml file, \n",
    "    # then the tags and metadata can get corrupted.\n",
    "    try:\n",
    "        os.remove(fname)\n",
    "        os.remove(fname+\".xml\")\n",
    "    except:\n",
    "        pass\n",
    "    \n",
    "    with rasterio.open(fname,'w',**profile) as out:\n",
    "        for b in range(data.shape[0]):\n",
    "            print(\"\\nprocessing band %d\"%(b+1))\n",
    "            out.write(data[b].astype(profile['dtype']), b+1)\n",
    "            \n",
    "            # not sure what the proper name for per band stats is in QGIS\n",
    "            if True:\n",
    "                stats = {\n",
    "                    'STATISTICS_MINIMUM': np.nanmin(data[b]),\n",
    "                    'STATISTICS_MAXIMUM': np.nanmax(data[b]),\n",
    "                    'STATISTICS_MEAN': np.nanmean(data[b]),\n",
    "                    'STATISTICS_STDDEV': np.nanstd(data[b])}\n",
    "                out.update_tags(b+1,**stats)\n",
    "                print(\"  stats= %s\"%str(stats))\n",
    "\n",
    "        stats = {\n",
    "                'STATISTICS_MINIMUM': np.nanmin(data),\n",
    "                'STATISTICS_MAXIMUM': np.nanmax(data),\n",
    "                'STATISTICS_MEAN': np.nanmean(data),\n",
    "                'STATISTICS_STDDEV': np.nanstd(data)}\n",
    "        out.update_tags(**stats)\n",
    "        print(\"\\n  overall stats= %s\\n\"%str(stats))\n",
    "\n",
    "        out.update_tags(**tags)\n",
    "        if 'tags' in kwargs:\n",
    "            out.update_tags(**kwargs['tags'])\n",
    "\n",
    "    del tmpl"
   ]
  },
  {
   "cell_type": "code",
   "execution_count": 16,
   "metadata": {},
   "outputs": [
    {
     "name": "stdout",
     "output_type": "stream",
     "text": [
      "input file: Midwest_Mosaic.tif\n",
      "output file: Midwest_Mosaic_out.tif\n",
      "\n",
      "processing band 1\n",
      "  stats= {'STATISTICS_MINIMUM': 0, 'STATISTICS_MAXIMUM': 255, 'STATISTICS_MEAN': 105.5556099695302, 'STATISTICS_STDDEV': 36.07316866813157}\n",
      "\n",
      "processing band 2\n",
      "  stats= {'STATISTICS_MINIMUM': 0, 'STATISTICS_MAXIMUM': 255, 'STATISTICS_MEAN': 146.58559732890092, 'STATISTICS_STDDEV': 33.19759538004106}\n",
      "\n",
      "processing band 3\n",
      "  stats= {'STATISTICS_MINIMUM': 0, 'STATISTICS_MAXIMUM': 255, 'STATISTICS_MEAN': 102.17084511375656, 'STATISTICS_STDDEV': 28.76794259426698}\n",
      "\n",
      "  overall stats= {'STATISTICS_MINIMUM': 0, 'STATISTICS_MAXIMUM': 255, 'STATISTICS_MEAN': 118.10401747072923, 'STATISTICS_STDDEV': 38.529111337074234}\n",
      "\n"
     ]
    },
    {
     "name": "stderr",
     "output_type": "stream",
     "text": [
      "/home/jldavid3/anaconda3/envs/pangeo/lib/python3.6/site-packages/rasterio/__init__.py:160: FutureWarning: GDAL-style transforms are deprecated and will not be supported in Rasterio 1.0.\n",
      "  transform = guard_transform(transform)\n"
     ]
    }
   ],
   "source": [
    "outname = os.path.splitext(fname)[0]+\"_out.tif\"\n",
    "\n",
    "arr = rasterio.open(fname,'r')\n",
    "print (\"input file: %s\"%fname)\n",
    "print (\"output file: %s\"%outname)\n",
    "\n",
    "tags={'status':'testing...'}\n",
    "\n",
    "# output a new GeoTIFF from the array, and use the profile\n",
    "# from the input file, and include some additional metadata\n",
    "to_tiff(arr.read(), outname, template=fname, tags=tags)\n",
    "#to_tiff(arr.read(), outname,meta=meta)"
   ]
  },
  {
   "cell_type": "code",
   "execution_count": 19,
   "metadata": {},
   "outputs": [
    {
     "name": "stdout",
     "output_type": "stream",
     "text": [
      "(1227, 1343)\n",
      "band[1].tags = {'STATISTICS_MAXIMUM': '4', 'STATISTICS_MEAN': '0.0037230081906179', 'STATISTICS_MINIMUM': '-3', 'STATISTICS_STDDEV': '1.0458122260225'}\n",
      "\n",
      "band[2].tags = {'STATISTICS_MAXIMUM': '255', 'STATISTICS_MEAN': '146.58559732890092', 'STATISTICS_MINIMUM': '0', 'STATISTICS_STDDEV': '33.19759538004106'}\n",
      "\n",
      "band[3].tags = {'STATISTICS_MAXIMUM': '255', 'STATISTICS_MEAN': '102.17084511375656', 'STATISTICS_MINIMUM': '0', 'STATISTICS_STDDEV': '28.76794259426698'}\n",
      "\n"
     ]
    }
   ],
   "source": [
    "with rasterio.open(outname,'r') as out:\n",
    "    print (out.shape)\n",
    "    for b in range(1,4):\n",
    "        print(\"band[%d].tags = %s\\n\"%(b,out.tags(b)))\n",
    "    "
   ]
  },
  {
   "cell_type": "code",
   "execution_count": 18,
   "metadata": {},
   "outputs": [],
   "source": [
    "# clean up\n",
    "#os.remove(fname)\n",
    "#os.remove(outname)"
   ]
  },
  {
   "cell_type": "code",
   "execution_count": null,
   "metadata": {},
   "outputs": [],
   "source": []
  }
 ],
 "metadata": {
  "kernelspec": {
   "display_name": "Python 3",
   "language": "python",
   "name": "python3"
  },
  "language_info": {
   "codemirror_mode": {
    "name": "ipython",
    "version": 3
   },
   "file_extension": ".py",
   "mimetype": "text/x-python",
   "name": "python",
   "nbconvert_exporter": "python",
   "pygments_lexer": "ipython3",
   "version": "3.6.4"
  }
 },
 "nbformat": 4,
 "nbformat_minor": 2
}
